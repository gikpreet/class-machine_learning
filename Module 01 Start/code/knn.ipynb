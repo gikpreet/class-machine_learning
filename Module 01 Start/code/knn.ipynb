{
 "cells": [
  {
   "cell_type": "code",
   "execution_count": 10,
   "metadata": {},
   "outputs": [],
   "source": [
    "from knn import KnnModel\n",
    "import numpy as np"
   ]
  },
  {
   "cell_type": "code",
   "execution_count": 2,
   "metadata": {},
   "outputs": [],
   "source": [
    "bream_length = [25.4, 26.3, 26.5, 29.0, 29.0, 29.7, 29.7, 30.0, 30.0, 30.7, 31.0, 31.0, \n",
    "                31.5, 32.0, 32.0, 32.0, 33.0, 33.0, 33.5, 33.5, 34.0, 34.0, 34.5, 35.0, \n",
    "                35.0, 35.0, 35.0, 36.0, 36.0, 37.0, 38.5, 38.5, 39.5, 41.0, 41.0]\n",
    "bream_weight = [242.0, 290.0, 340.0, 363.0, 430.0, 450.0, 500.0, 390.0, 450.0, 500.0, 475.0, 500.0, \n",
    "                500.0, 340.0, 600.0, 600.0, 700.0, 700.0, 610.0, 650.0, 575.0, 685.0, 620.0, 680.0, \n",
    "                700.0, 725.0, 720.0, 714.0, 850.0, 1000.0, 920.0, 955.0, 925.0, 975.0, 950.0]"
   ]
  },
  {
   "cell_type": "code",
   "execution_count": 3,
   "metadata": {},
   "outputs": [],
   "source": [
    "smelt_length = [9.8, 10.5, 10.6, 11.0, 11.2, 11.3, 11.8, 11.8, 12.0, 12.2, 12.4, 13.0, 14.3, 15.0]\n",
    "smelt_weight = [6.7, 7.5, 7.0, 9.7, 9.8, 8.7, 10.0, 9.9, 9.8, 12.2, 13.4, 12.2, 19.7, 19.9]"
   ]
  },
  {
   "cell_type": "code",
   "execution_count": 4,
   "metadata": {},
   "outputs": [],
   "source": [
    "# 도미 데이터의 길이와 빙어 데이터의 길이를 하나의 리스트로 만듦\n",
    "length = bream_length + smelt_length\n",
    "# 도미 데이터의 무게와 빙어 데이터의 무게를 하나의 리스트로 만듦\n",
    "weight = bream_weight + smelt_weight"
   ]
  },
  {
   "cell_type": "code",
   "execution_count": 5,
   "metadata": {},
   "outputs": [],
   "source": [
    "fish_data = [[l, w] for l, w in zip(length, weight)]"
   ]
  },
  {
   "cell_type": "code",
   "execution_count": 6,
   "metadata": {},
   "outputs": [],
   "source": [
    "fish_target = [1] * 35 + [0] * 14"
   ]
  },
  {
   "cell_type": "code",
   "execution_count": 12,
   "metadata": {},
   "outputs": [
    {
     "data": {
      "text/plain": [
       "array([[  25.4,  242. ,    1. ],\n",
       "       [  26.3,  290. ,    1. ],\n",
       "       [  26.5,  340. ,    1. ],\n",
       "       [  29. ,  363. ,    1. ],\n",
       "       [  29. ,  430. ,    1. ],\n",
       "       [  29.7,  450. ,    1. ],\n",
       "       [  29.7,  500. ,    1. ],\n",
       "       [  30. ,  390. ,    1. ],\n",
       "       [  30. ,  450. ,    1. ],\n",
       "       [  30.7,  500. ,    1. ],\n",
       "       [  31. ,  475. ,    1. ],\n",
       "       [  31. ,  500. ,    1. ],\n",
       "       [  31.5,  500. ,    1. ],\n",
       "       [  32. ,  340. ,    1. ],\n",
       "       [  32. ,  600. ,    1. ],\n",
       "       [  32. ,  600. ,    1. ],\n",
       "       [  33. ,  700. ,    1. ],\n",
       "       [  33. ,  700. ,    1. ],\n",
       "       [  33.5,  610. ,    1. ],\n",
       "       [  33.5,  650. ,    1. ],\n",
       "       [  34. ,  575. ,    1. ],\n",
       "       [  34. ,  685. ,    1. ],\n",
       "       [  34.5,  620. ,    1. ],\n",
       "       [  35. ,  680. ,    1. ],\n",
       "       [  35. ,  700. ,    1. ],\n",
       "       [  35. ,  725. ,    1. ],\n",
       "       [  35. ,  720. ,    1. ],\n",
       "       [  36. ,  714. ,    1. ],\n",
       "       [  36. ,  850. ,    1. ],\n",
       "       [  37. , 1000. ,    1. ],\n",
       "       [  38.5,  920. ,    1. ],\n",
       "       [  38.5,  955. ,    1. ],\n",
       "       [  39.5,  925. ,    1. ],\n",
       "       [  41. ,  975. ,    1. ],\n",
       "       [  41. ,  950. ,    1. ],\n",
       "       [   9.8,    6.7,    0. ],\n",
       "       [  10.5,    7.5,    0. ],\n",
       "       [  10.6,    7. ,    0. ],\n",
       "       [  11. ,    9.7,    0. ],\n",
       "       [  11.2,    9.8,    0. ],\n",
       "       [  11.3,    8.7,    0. ],\n",
       "       [  11.8,   10. ,    0. ],\n",
       "       [  11.8,    9.9,    0. ],\n",
       "       [  12. ,    9.8,    0. ],\n",
       "       [  12.2,   12.2,    0. ],\n",
       "       [  12.4,   13.4,    0. ],\n",
       "       [  13. ,   12.2,    0. ],\n",
       "       [  14.3,   19.7,    0. ],\n",
       "       [  15. ,   19.9,    0. ]])"
      ]
     },
     "execution_count": 12,
     "metadata": {},
     "output_type": "execute_result"
    }
   ],
   "source": [
    "np.c_[fish_data, fish_target]"
   ]
  },
  {
   "cell_type": "code",
   "execution_count": 13,
   "metadata": {},
   "outputs": [],
   "source": [
    "knn = KnnModel(3)"
   ]
  },
  {
   "cell_type": "code",
   "execution_count": 14,
   "metadata": {},
   "outputs": [],
   "source": [
    "knn.fit(fish_data, fish_target)"
   ]
  },
  {
   "cell_type": "code",
   "execution_count": 15,
   "metadata": {},
   "outputs": [
    {
     "name": "stdout",
     "output_type": "stream",
     "text": [
      "[26.3, 290.0]\n",
      "[26.5, 340.0]\n",
      "[32.0, 340.0]\n"
     ]
    },
    {
     "data": {
      "text/plain": [
       "(340.0, 1)"
      ]
     },
     "execution_count": 15,
     "metadata": {},
     "output_type": "execute_result"
    }
   ],
   "source": [
    "knn.predict([30,600])"
   ]
  },
  {
   "cell_type": "code",
   "execution_count": null,
   "metadata": {},
   "outputs": [],
   "source": []
  }
 ],
 "metadata": {
  "kernelspec": {
   "display_name": "base",
   "language": "python",
   "name": "python3"
  },
  "language_info": {
   "codemirror_mode": {
    "name": "ipython",
    "version": 3
   },
   "file_extension": ".py",
   "mimetype": "text/x-python",
   "name": "python",
   "nbconvert_exporter": "python",
   "pygments_lexer": "ipython3",
   "version": "3.12.7"
  }
 },
 "nbformat": 4,
 "nbformat_minor": 2
}
